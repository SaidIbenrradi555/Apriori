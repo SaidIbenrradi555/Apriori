{
 "cells": [
  {
   "cell_type": "markdown",
   "id": "d5aab3e1",
   "metadata": {},
   "source": [
    "<h1 style=\"text-align:center\"><span style=\"color:#111\"><span style=\"font-size:48px\"><span style=\"font-family:Comic Sans MS,cursive\"><strong>The Apriori Algorithm</strong></span></span></span></h1>"
   ]
  },
  {
   "cell_type": "markdown",
   "id": "d79c1a28",
   "metadata": {},
   "source": [
    "The Apriori algorithm is a classic algorithm used to mine frequent itemsets in a dataset. The algorithm works by generating candidate itemsets of increasing size, and pruning those that do not meet a minimum support threshold. The algorithm uses a level-wise approach, where it first generates all frequent itemsets of size 1, then uses those to generate frequent itemsets of size 2, and so on.\n",
    "\n",
    "\n",
    "#### Working of the Apriori Algorithm\n",
    "\n",
    "The Apriori algorithm works in the following way:\n",
    "\n",
    "1 Generate frequent itemsets of size 1 by scanning the database and counting the support of each item.\n",
    "\n",
    "2 Repeat until no new frequent itemsets can be generated:<br>\n",
    "  &emsp; a. Generate candidate itemsets by joining frequent itemsets of the previous level.<br>\n",
    "  &emsp;  b. Prune candidate itemsets that do not meet the minimum support threshold.<br>\n",
    "  &emsp;  c. Count the support of each candidate itemset.<br>\n",
    "\n",
    "3 Generate association rules from the frequent itemsets.\n"
   ]
  },
  {
   "cell_type": "markdown",
   "id": "1ba36b46",
   "metadata": {},
   "source": [
    "### Basic concepts of Apriori algorithm\n",
    "\n",
    "\n",
    "\n",
    "`Support`: It refers to the frequency of occurrence of an itemset in a dataset. It is calculated as the number of transactions containing the itemset divided by the total number of transactions.\n",
    "\n",
    "$\\text{support}(X) = \\frac{\\text{number of transactions containing }X}{\\text{total number of transactions}}$.\n",
    "\n",
    "`Confidence`: It measures how often the rule is found to be true. It is calculated as the number of transactions containing both the antecedent and consequent divided by the number of transactions containing only the antecedent.<br><br>\n",
    "$\\text{confidence}(X \\rightarrow Y) = \\frac{\\text{support}(X \\cup Y)}{\\text{support}(X)}$.<br><br>\n",
    "\n",
    "`Lift`: It measures the strength of the association between the antecedent and the consequent. A lift value greater than 1 indicates that the antecedent and consequent are positively correlated, while a value less than 1 indicates a negative correlation.<br>\n",
    "\n",
    "\n",
    "$\\text{lift}(X \\rightarrow Y) = \\frac{\\text{support}(X \\cup Y)}{\\text{support}(X) \\times \\text{support}(Y)}$.<br><br>\n",
    "`Frequent itemsets`: Itemsets that occur frequently in the dataset above a minimum support threshold.\n",
    "\n",
    "`Association rules`: Rules that express a relationship between two itemsets, where the presence of one itemset implies the presence of the other. They consist of an antecedent (if) and a consequent (then) part.\n",
    "\n"
   ]
  },
  {
   "cell_type": "markdown",
   "id": "9a40ad87",
   "metadata": {},
   "source": [
    "### Import required libraries"
   ]
  },
  {
   "cell_type": "code",
   "execution_count": null,
   "id": "784c8c8a",
   "metadata": {},
   "outputs": [],
   "source": [
    "from mlxtend.preprocessing import TransactionEncoder\n",
    "from mlxtend.frequent_patterns import apriori, association_rules\n",
    "import pandas as pd"
   ]
  },
  {
   "cell_type": "markdown",
   "id": "da12a4d9",
   "metadata": {},
   "source": [
    "### Define the transactions"
   ]
  },
  {
   "cell_type": "code",
   "execution_count": null,
   "id": "37d7035d",
   "metadata": {},
   "outputs": [],
   "source": [
    "transactions = [['apple', 'bread', 'milk'],\n",
    "                ['apple', 'bread', 'butter', 'eggs'],\n",
    "                ['apple', 'banana', 'milk'],\n",
    "                ['bread', 'milk', 'eggs'],\n",
    "                ['bread', 'butter', 'eggs']]"
   ]
  },
  {
   "cell_type": "markdown",
   "id": "d0266c3e",
   "metadata": {},
   "source": [
    "### Convert transactions to a one-hot encoded boolean array"
   ]
  },
  {
   "cell_type": "code",
   "execution_count": null,
   "id": "ea4e43c0",
   "metadata": {},
   "outputs": [],
   "source": [
    "te = TransactionEncoder()\n",
    "te_ary = te.fit(transactions).transform(transactions)"
   ]
  },
  {
   "cell_type": "markdown",
   "id": "422f41b3",
   "metadata": {},
   "source": [
    "### Convert the array to a pandas DataFrame"
   ]
  },
  {
   "cell_type": "code",
   "execution_count": 6,
   "id": "be5da532",
   "metadata": {},
   "outputs": [
    {
     "data": {
      "text/html": [
       "<div>\n",
       "<style scoped>\n",
       "    .dataframe tbody tr th:only-of-type {\n",
       "        vertical-align: middle;\n",
       "    }\n",
       "\n",
       "    .dataframe tbody tr th {\n",
       "        vertical-align: top;\n",
       "    }\n",
       "\n",
       "    .dataframe thead th {\n",
       "        text-align: right;\n",
       "    }\n",
       "</style>\n",
       "<table border=\"1\" class=\"dataframe\">\n",
       "  <thead>\n",
       "    <tr style=\"text-align: right;\">\n",
       "      <th></th>\n",
       "      <th>apple</th>\n",
       "      <th>banana</th>\n",
       "      <th>bread</th>\n",
       "      <th>butter</th>\n",
       "      <th>eggs</th>\n",
       "      <th>milk</th>\n",
       "    </tr>\n",
       "  </thead>\n",
       "  <tbody>\n",
       "    <tr>\n",
       "      <th>0</th>\n",
       "      <td>True</td>\n",
       "      <td>False</td>\n",
       "      <td>True</td>\n",
       "      <td>False</td>\n",
       "      <td>False</td>\n",
       "      <td>True</td>\n",
       "    </tr>\n",
       "    <tr>\n",
       "      <th>1</th>\n",
       "      <td>True</td>\n",
       "      <td>False</td>\n",
       "      <td>True</td>\n",
       "      <td>True</td>\n",
       "      <td>True</td>\n",
       "      <td>False</td>\n",
       "    </tr>\n",
       "    <tr>\n",
       "      <th>2</th>\n",
       "      <td>True</td>\n",
       "      <td>True</td>\n",
       "      <td>False</td>\n",
       "      <td>False</td>\n",
       "      <td>False</td>\n",
       "      <td>True</td>\n",
       "    </tr>\n",
       "    <tr>\n",
       "      <th>3</th>\n",
       "      <td>False</td>\n",
       "      <td>False</td>\n",
       "      <td>True</td>\n",
       "      <td>False</td>\n",
       "      <td>True</td>\n",
       "      <td>True</td>\n",
       "    </tr>\n",
       "    <tr>\n",
       "      <th>4</th>\n",
       "      <td>False</td>\n",
       "      <td>False</td>\n",
       "      <td>True</td>\n",
       "      <td>True</td>\n",
       "      <td>True</td>\n",
       "      <td>False</td>\n",
       "    </tr>\n",
       "  </tbody>\n",
       "</table>\n",
       "</div>"
      ],
      "text/plain": [
       "   apple  banana  bread  butter   eggs   milk\n",
       "0   True   False   True   False  False   True\n",
       "1   True   False   True    True   True  False\n",
       "2   True    True  False   False  False   True\n",
       "3  False   False   True   False   True   True\n",
       "4  False   False   True    True   True  False"
      ]
     },
     "execution_count": 6,
     "metadata": {},
     "output_type": "execute_result"
    }
   ],
   "source": [
    "df = pd.DataFrame(te_ary, columns=te.columns_)\n",
    "df"
   ]
  },
  {
   "cell_type": "markdown",
   "id": "16e0da71",
   "metadata": {},
   "source": [
    "### Find frequent itemsets with minimum support of 0.5"
   ]
  },
  {
   "cell_type": "code",
   "execution_count": 7,
   "id": "067ef0f4",
   "metadata": {},
   "outputs": [],
   "source": [
    "frequent_itemsets = apriori(df, min_support=0.5, use_colnames=True)"
   ]
  },
  {
   "cell_type": "markdown",
   "id": "ea0b50dc",
   "metadata": {},
   "source": [
    "### Generate association rules with minimum confidence of 0.7"
   ]
  },
  {
   "cell_type": "code",
   "execution_count": null,
   "id": "96a23093",
   "metadata": {},
   "outputs": [],
   "source": [
    "association_rules = association_rules(frequent_itemsets, metric=\"confidence\", min_threshold=0.7)"
   ]
  },
  {
   "cell_type": "markdown",
   "id": "61dbd473",
   "metadata": {},
   "source": [
    "### Print frequent itemsets and association rules"
   ]
  },
  {
   "cell_type": "code",
   "execution_count": 9,
   "id": "da729e3a",
   "metadata": {
    "scrolled": true
   },
   "outputs": [
    {
     "data": {
      "text/html": [
       "<div>\n",
       "<style scoped>\n",
       "    .dataframe tbody tr th:only-of-type {\n",
       "        vertical-align: middle;\n",
       "    }\n",
       "\n",
       "    .dataframe tbody tr th {\n",
       "        vertical-align: top;\n",
       "    }\n",
       "\n",
       "    .dataframe thead th {\n",
       "        text-align: right;\n",
       "    }\n",
       "</style>\n",
       "<table border=\"1\" class=\"dataframe\">\n",
       "  <thead>\n",
       "    <tr style=\"text-align: right;\">\n",
       "      <th></th>\n",
       "      <th>support</th>\n",
       "      <th>itemsets</th>\n",
       "    </tr>\n",
       "  </thead>\n",
       "  <tbody>\n",
       "    <tr>\n",
       "      <th>0</th>\n",
       "      <td>0.6</td>\n",
       "      <td>(apple)</td>\n",
       "    </tr>\n",
       "    <tr>\n",
       "      <th>1</th>\n",
       "      <td>0.8</td>\n",
       "      <td>(bread)</td>\n",
       "    </tr>\n",
       "    <tr>\n",
       "      <th>2</th>\n",
       "      <td>0.6</td>\n",
       "      <td>(eggs)</td>\n",
       "    </tr>\n",
       "    <tr>\n",
       "      <th>3</th>\n",
       "      <td>0.6</td>\n",
       "      <td>(milk)</td>\n",
       "    </tr>\n",
       "    <tr>\n",
       "      <th>4</th>\n",
       "      <td>0.6</td>\n",
       "      <td>(bread, eggs)</td>\n",
       "    </tr>\n",
       "  </tbody>\n",
       "</table>\n",
       "</div>"
      ],
      "text/plain": [
       "   support       itemsets\n",
       "0      0.6        (apple)\n",
       "1      0.8        (bread)\n",
       "2      0.6         (eggs)\n",
       "3      0.6         (milk)\n",
       "4      0.6  (bread, eggs)"
      ]
     },
     "execution_count": 9,
     "metadata": {},
     "output_type": "execute_result"
    }
   ],
   "source": [
    "frequent_itemsets"
   ]
  },
  {
   "cell_type": "code",
   "execution_count": 4,
   "id": "750d1c46",
   "metadata": {
    "scrolled": true
   },
   "outputs": [
    {
     "data": {
      "text/html": [
       "<div>\n",
       "<style scoped>\n",
       "    .dataframe tbody tr th:only-of-type {\n",
       "        vertical-align: middle;\n",
       "    }\n",
       "\n",
       "    .dataframe tbody tr th {\n",
       "        vertical-align: top;\n",
       "    }\n",
       "\n",
       "    .dataframe thead th {\n",
       "        text-align: right;\n",
       "    }\n",
       "</style>\n",
       "<table border=\"1\" class=\"dataframe\">\n",
       "  <thead>\n",
       "    <tr style=\"text-align: right;\">\n",
       "      <th></th>\n",
       "      <th>antecedents</th>\n",
       "      <th>consequents</th>\n",
       "      <th>antecedent support</th>\n",
       "      <th>consequent support</th>\n",
       "      <th>support</th>\n",
       "      <th>confidence</th>\n",
       "      <th>lift</th>\n",
       "      <th>leverage</th>\n",
       "      <th>conviction</th>\n",
       "    </tr>\n",
       "  </thead>\n",
       "  <tbody>\n",
       "    <tr>\n",
       "      <th>0</th>\n",
       "      <td>(bread)</td>\n",
       "      <td>(eggs)</td>\n",
       "      <td>0.8</td>\n",
       "      <td>0.6</td>\n",
       "      <td>0.6</td>\n",
       "      <td>0.75</td>\n",
       "      <td>1.25</td>\n",
       "      <td>0.12</td>\n",
       "      <td>1.6</td>\n",
       "    </tr>\n",
       "    <tr>\n",
       "      <th>1</th>\n",
       "      <td>(eggs)</td>\n",
       "      <td>(bread)</td>\n",
       "      <td>0.6</td>\n",
       "      <td>0.8</td>\n",
       "      <td>0.6</td>\n",
       "      <td>1.00</td>\n",
       "      <td>1.25</td>\n",
       "      <td>0.12</td>\n",
       "      <td>inf</td>\n",
       "    </tr>\n",
       "  </tbody>\n",
       "</table>\n",
       "</div>"
      ],
      "text/plain": [
       "  antecedents consequents  antecedent support  consequent support  support  \\\n",
       "0     (bread)      (eggs)                 0.8                 0.6      0.6   \n",
       "1      (eggs)     (bread)                 0.6                 0.8      0.6   \n",
       "\n",
       "   confidence  lift  leverage  conviction  \n",
       "0        0.75  1.25      0.12         1.6  \n",
       "1        1.00  1.25      0.12         inf  "
      ]
     },
     "execution_count": 4,
     "metadata": {},
     "output_type": "execute_result"
    }
   ],
   "source": [
    "association_rules"
   ]
  },
  {
   "cell_type": "markdown",
   "id": "567d7622",
   "metadata": {},
   "source": [
    "### Plot frequent itemsets"
   ]
  },
  {
   "cell_type": "code",
   "execution_count": 12,
   "id": "4fe26ca1",
   "metadata": {},
   "outputs": [
    {
     "data": {
      "image/png": "[encoded data removed]",
      "text/plain": [
       "<Figure size 640x480 with 1 Axes>"
      ]
     },
     "metadata": {},
     "output_type": "display_data"
    }
   ],
   "source": [
    "import matplotlib.pyplot as plt\n",
    "\n",
    "plt.bar(range(len(frequent_itemsets)), frequent_itemsets['support'])\n",
    "plt.xticks(range(len(frequent_itemsets)), frequent_itemsets['itemsets'], rotation=90)\n",
    "plt.xlabel('Itemsets')\n",
    "plt.ylabel('Support')\n",
    "plt.title('Frequent Itemsets')\n",
    "plt.show()"
   ]
  }
 ],
 "metadata": {
  "kernelspec": {
   "display_name": "Python 3 (ipykernel)",
   "language": "python",
   "name": "python3"
  },
  "language_info": {
   "codemirror_mode": {
    "name": "ipython",
    "version": 3
   },
   "file_extension": ".py",
   "mimetype": "text/x-python",
   "name": "python",
   "nbconvert_exporter": "python",
   "pygments_lexer": "ipython3",
   "version": "3.9.13"
  }
 },
 "nbformat": 4,
 "nbformat_minor": 5
}
